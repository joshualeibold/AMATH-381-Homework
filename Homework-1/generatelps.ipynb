{
 "metadata": {
  "language_info": {
   "codemirror_mode": {
    "name": "ipython",
    "version": 3
   },
   "file_extension": ".py",
   "mimetype": "text/x-python",
   "name": "python",
   "nbconvert_exporter": "python",
   "pygments_lexer": "ipython3",
   "version": "3.8.3-final"
  },
  "orig_nbformat": 2,
  "kernelspec": {
   "name": "python3",
   "display_name": "Python 3",
   "language": "python"
  }
 },
 "nbformat": 4,
 "nbformat_minor": 2,
 "cells": [
  {
   "source": [
    "## Import Modules"
   ],
   "cell_type": "markdown",
   "metadata": {}
  },
  {
   "cell_type": "code",
   "execution_count": 2,
   "metadata": {},
   "outputs": [],
   "source": [
    "import numpy as np # module that allows easy manipuation of arrays"
   ]
  },
  {
   "source": [
    "## Define variables"
   ],
   "cell_type": "markdown",
   "metadata": {}
  },
  {
   "cell_type": "code",
   "execution_count": 9,
   "metadata": {},
   "outputs": [],
   "source": [
    "numObj = 50 # number of enumerated objects\n",
    "i = np.arange(1,numObj + 1)\n",
    "values = np.floor(50 + 30 * np.cos(i)).astype(np.int32)\n",
    "weights = np.floor(14 + 9 * np.cos(11 * i + 2)).astype(np.int32)\n",
    "vols = np.floor(10 + 2 * np.cos(4 * i - 1)).astype(np.int32)"
   ]
  },
  {
   "source": [
    "## Define main constraints"
   ],
   "cell_type": "markdown",
   "metadata": {}
  },
  {
   "cell_type": "code",
   "execution_count": 10,
   "metadata": {},
   "outputs": [],
   "source": [
    "maxWeight = 200\n",
    "maxVol = 100"
   ]
  },
  {
   "source": [
    "## Generate IPSolve file for problem 1"
   ],
   "cell_type": "markdown",
   "metadata": {}
  },
  {
   "cell_type": "code",
   "execution_count": 17,
   "metadata": {},
   "outputs": [],
   "source": [
    "with open('knapsack1.lp', 'w') as f: \n",
    "    pass\n",
    "\n",
    "    f.write('max: ')\n",
    "\n",
    "    for x in i:\n",
    "        f.write('+' + str(values[x - 1]) + 'x' + str(x)) # writes out the objective function\n",
    "\n",
    "    f.write(';\\n')\n",
    "    for x in i:\n",
    "        f.write('+' + str(weights[x - 1]) + 'x' + str(x)) # writes out the weight constraint function\n",
    "    f.write('<= ' + str(maxWeight) + ';\\n')\n",
    "    for x in i:\n",
    "        f.write('+' + str(vols[x - 1]) + 'x' + str(x)) # writes out the volume constraint function\n",
    "    f.write('<= ' + str(maxVol) + ';\\nbin ') #last part declares the next line a group of binary variables\n",
    "\n",
    "    for x in i:\n",
    "        if x != numObj: # lists the names of the variables\n",
    "            f.write('x' + str(x) + ', ')\n",
    "    f.write('x' + str(numObj) + ';') "
   ]
  },
  {
   "source": [
    "## Generate IPSolve file for problem 2(a) and 2(b)"
   ],
   "cell_type": "markdown",
   "metadata": {}
  },
  {
   "cell_type": "code",
   "execution_count": 18,
   "metadata": {},
   "outputs": [],
   "source": [
    "iprime = np.array([2, 3, 5, 7, 11, 13, 17, 19, 23, 29, 31, 37, 41, 43, 47]) # the prime numbers under 50\n",
    "for j in [1,2]:\n",
    "    # follows essentially the same structure as before, with minor deviations\n",
    "    with open('knapsack2-' + str(j) + '.lp', 'w') as f: # there are two versions of problem 2, so this produces two files\n",
    "        pass\n",
    "\n",
    "        f.write('max: ')\n",
    "\n",
    "        for x in i:\n",
    "            f.write('+' + str(values[x - 1]) + 'x' + str(x)) \n",
    "        f.write(';\\n')\n",
    "\n",
    "        for x in i:\n",
    "            f.write('+' + str(weights[x - 1]) + 'x' + str(x))\n",
    "        f.write('<= ' + str(maxWeight) + ';\\n')\n",
    "\n",
    "        for x in i:\n",
    "            if (x in iprime):\n",
    "                f.write('+' + str(values[x - 1]) + 'x' + str(x))\n",
    "            else:\n",
    "                f.write('-' + str((2 * j - 1) * values[x - 1]) + 'x' + str(x))\n",
    "        f.write('>= ' + str(0) + ';\\n')\n",
    "        # essentially, the sum of values of prime objects >= the sum of non-prime objects,\n",
    "        # or the sum of values of prime objects >= 3 * the sum of values non-prime objects\n",
    "        # this ensures at least 50% or 75% of the total value is created by prime numbers\n",
    "\n",
    "        for x in i:\n",
    "            f.write('+' + str(vols[x - 1]) + 'x' + str(x))\n",
    "        f.write('<= ' + str(maxVol) + ';\\nbin ')\n",
    "\n",
    "        for x in i:\n",
    "            if x != numObj:\n",
    "                f.write('x' + str(x) + ', ')\n",
    "        f.write('x' + str(numObj) + ';')"
   ]
  },
  {
   "source": [
    "## Generate IPSolve file for problem 3"
   ],
   "cell_type": "markdown",
   "metadata": {}
  },
  {
   "cell_type": "code",
   "execution_count": 16,
   "metadata": {},
   "outputs": [],
   "source": [
    "# identical to the first knapsack file, except that instead of 'bin' in the last line, it's 'int'\n",
    "with open('knapsack1.lp', 'w') as f: \n",
    "    pass\n",
    "\n",
    "    f.write('max: ')\n",
    "\n",
    "    for x in i:\n",
    "        f.write('+' + str(values[x - 1]) + 'x' + str(x))\n",
    "\n",
    "    f.write(';\\n')\n",
    "    for x in i:\n",
    "        f.write('+' + str(weights[x - 1]) + 'x' + str(x))\n",
    "    f.write('<= ' + str(maxWeight) + ';\\n')\n",
    "    for x in i:\n",
    "        f.write('+' + str(vols[x - 1]) + 'x' + str(x))\n",
    "    f.write('<= ' + str(maxVol) + ';\\nint ')\n",
    "\n",
    "    for x in i:\n",
    "        if x != numObj:\n",
    "            f.write('x' + str(x) + ', ')\n",
    "    f.write('x' + str(numObj) + ';')"
   ]
  }
 ]
}